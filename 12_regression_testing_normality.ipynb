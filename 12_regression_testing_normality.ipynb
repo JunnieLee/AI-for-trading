{
  "nbformat": 4,
  "nbformat_minor": 0,
  "metadata": {
    "colab": {
      "name": "12_regression_testing_normality.ipynb",
      "version": "0.3.2",
      "provenance": [],
      "include_colab_link": true
    },
    "kernelspec": {
      "display_name": "Python 3",
      "language": "python",
      "name": "python3"
    }
  },
  "cells": [
    {
      "cell_type": "markdown",
      "metadata": {
        "id": "view-in-github",
        "colab_type": "text"
      },
      "source": [
        "<a href=\"https://colab.research.google.com/github/JunnieLee/AI-for-trading/blob/master/12_regression_testing_normality.ipynb\" target=\"_parent\"><img src=\"https://colab.research.google.com/assets/colab-badge.svg\" alt=\"Open In Colab\"/></a>"
      ]
    },
    {
      "metadata": {
        "id": "esZH4sbCv690",
        "colab_type": "text"
      },
      "cell_type": "markdown",
      "source": [
        "# Testing if a Distribution is Normal"
      ]
    },
    {
      "metadata": {
        "id": "lrKEck3Iv69_",
        "colab_type": "text"
      },
      "cell_type": "markdown",
      "source": [
        "## Imports"
      ]
    },
    {
      "metadata": {
        "id": "nHS6Agq_v6-H",
        "colab_type": "code",
        "colab": {}
      },
      "cell_type": "code",
      "source": [
        "import numpy as np\n",
        "import pandas as pd\n",
        "import scipy.stats as stats\n",
        "import matplotlib.pyplot as plt\n",
        "import quiz_tests\n",
        "\n",
        "# Set plotting options\n",
        "%matplotlib inline\n",
        "plt.rc('figure', figsize=(16, 9))"
      ],
      "execution_count": 0,
      "outputs": []
    },
    {
      "metadata": {
        "id": "ey9HsnD_v6-f",
        "colab_type": "text"
      },
      "cell_type": "markdown",
      "source": [
        "## Create normal and non-normal distributions"
      ]
    },
    {
      "metadata": {
        "id": "aEXMqucWv6-n",
        "colab_type": "code",
        "colab": {}
      },
      "cell_type": "code",
      "source": [
        "# Sample A: Normal distribution\n",
        "sample_a = stats.norm.rvs(loc=0.0, scale=1.0, size=(1000,))\n",
        "\n",
        "# Sample B: Non-normal distribution\n",
        "sample_b = stats.lognorm.rvs(s=0.5, loc=0.0, scale=1.0, size=(1000,))"
      ],
      "execution_count": 0,
      "outputs": []
    },
    {
      "metadata": {
        "id": "tLQEx7N6v6--",
        "colab_type": "text"
      },
      "cell_type": "markdown",
      "source": [
        "## Boxplot-Whisker Plot and Histogram\n",
        "\n",
        "We can visually check if a distribution looks normally distributed.  Recall that a box whisker plot lets us check for symmetry around the mean.  A histogram lets us see the overall shape.  A QQ-plot lets us compare our data distribution with a normal distribution (or any other theoretical \"ideal\" distribution)."
      ]
    },
    {
      "metadata": {
        "id": "Ihw9Jkw2v6_F",
        "colab_type": "code",
        "colab": {}
      },
      "cell_type": "code",
      "source": [
        "# Sample A: Normal distribution\n",
        "sample_a = stats.norm.rvs(loc=0.0, scale=1.0, size=(1000,))\n",
        "fig, axes = plt.subplots(2, 1, figsize=(16, 9), sharex=True)\n",
        "axes[0].boxplot(sample_a, vert=False)\n",
        "axes[1].hist(sample_a, bins=50)\n",
        "axes[0].set_title(\"Boxplot of a Normal Distribution\");"
      ],
      "execution_count": 0,
      "outputs": []
    },
    {
      "metadata": {
        "id": "N3Zt2gCcv6_c",
        "colab_type": "code",
        "colab": {}
      },
      "cell_type": "code",
      "source": [
        "# Sample B: Non-normal distribution\n",
        "sample_b = stats.lognorm.rvs(s=0.5, loc=0.0, scale=1.0, size=(1000,))\n",
        "fig, axes = plt.subplots(2, 1, figsize=(16, 9), sharex=True)\n",
        "axes[0].boxplot(sample_b, vert=False)\n",
        "axes[1].hist(sample_b, bins=50)\n",
        "axes[0].set_title(\"Boxplot of a Lognormal Distribution\");"
      ],
      "execution_count": 0,
      "outputs": []
    },
    {
      "metadata": {
        "id": "BZuG3_4Mv6_1",
        "colab_type": "code",
        "colab": {}
      },
      "cell_type": "code",
      "source": [
        "# Q-Q plot of normally-distributed sample\n",
        "plt.figure(figsize=(10, 10)); plt.axis('equal')\n",
        "stats.probplot(sample_a, dist='norm', plot=plt);"
      ],
      "execution_count": 0,
      "outputs": []
    },
    {
      "metadata": {
        "id": "wYfRXZyrv7AZ",
        "colab_type": "code",
        "colab": {}
      },
      "cell_type": "code",
      "source": [
        "# Q-Q plot of non-normally-distributed sample\n",
        "plt.figure(figsize=(10, 10)); plt.axis('equal')\n",
        "stats.probplot(sample_b, dist='norm', plot=plt);"
      ],
      "execution_count": 0,
      "outputs": []
    },
    {
      "metadata": {
        "id": "8VxVPJI0v7Au",
        "colab_type": "text"
      },
      "cell_type": "markdown",
      "source": [
        "## Testing for Normality\n",
        "### Shapiro-Wilk\n",
        "\n",
        "The Shapiro-Wilk test is available in the scipy library.  The null hypothesis assumes that the data distribution is normal.  If the p-value is greater than the chosen p-value, we'll assume that it's normal. Otherwise we assume that it's not normal.\n",
        "https://docs.scipy.org/doc/scipy-0.19.0/reference/generated/scipy.stats.shapiro.html"
      ]
    },
    {
      "metadata": {
        "id": "YYo_Ow31v7A3",
        "colab_type": "code",
        "colab": {}
      },
      "cell_type": "code",
      "source": [
        "def is_normal(sample, test=stats.shapiro, p_level=0.05, **kwargs):\n",
        "    \"\"\"Apply a normality test to check if sample is normally distributed.\"\"\"\n",
        "    t_stat, p_value = test(sample, **kwargs)\n",
        "    print(\"Test statistic: {}, p-value: {}\".format(t_stat, p_value))\n",
        "    print(\"Is the distribution Likely Normal? {}\".format(p_value > p_level))\n",
        "    return p_value > p_level\n",
        "\n",
        "# Using Shapiro-Wilk test (default)\n",
        "print(\"Sample A:-\"); is_normal(sample_a);\n",
        "print(\"Sample B:-\"); is_normal(sample_b);"
      ],
      "execution_count": 0,
      "outputs": []
    },
    {
      "metadata": {
        "id": "g3-fAmsMv7BN",
        "colab_type": "text"
      },
      "cell_type": "markdown",
      "source": [
        ""
      ]
    },
    {
      "metadata": {
        "id": "x5dbeX60v7BS",
        "colab_type": "text"
      },
      "cell_type": "markdown",
      "source": [
        "## Kolmogorov-Smirnov\n",
        "\n",
        "The Kolmogorov-Smirnov is available in the scipy.stats library.  The K-S test compares the data distribution with a theoretical distribution.  We'll choose the 'norm' (normal) distribution as the theoretical distribution, and we also need to specify the mean and standard deviation of this theoretical distribution.  We'll set the mean and stanadard deviation of the theoretical norm with the mean and standard deviation of the data distribution.\n",
        "\n",
        "https://docs.scipy.org/doc/scipy-0.14.0/reference/generated/scipy.stats.kstest.html"
      ]
    },
    {
      "metadata": {
        "id": "3PjiCCTrv7Bd",
        "colab_type": "text"
      },
      "cell_type": "markdown",
      "source": [
        "# Quiz\n",
        "\n",
        "To use the Kolmogorov-Smirnov test, complete the function `is_normal_ks`.\n",
        "\n",
        "To set the variable normal_args, create a tuple with two values.  An example of a tuple is `(\"apple\",\"banana\")`\n",
        "The first is the mean of the sample. The second is the standard deviation of the sample.\n",
        "\n",
        "**hint:** Hint: Numpy has functions np.mean() and np.std()"
      ]
    },
    {
      "metadata": {
        "id": "zLXT-i-Dv7Bl",
        "colab_type": "code",
        "colab": {}
      },
      "cell_type": "code",
      "source": [
        "def is_normal_ks(sample, test=stats.kstest, p_level=0.05, **kwargs):\n",
        "    \"\"\"\n",
        "    sample: a sample distribution\n",
        "    test: a function that tests for normality\n",
        "    p_level: if the test returns a p-value > than p_level, assume normality\n",
        "    \n",
        "    return: True if distribution is normal, False otherwise\n",
        "    \"\"\"\n",
        "    normal_args = (np.mean(sample),np.std(sample))\n",
        "    \n",
        "    t_stat, p_value = test(sample, 'norm', normal_args, **kwargs)\n",
        "    print(\"Test statistic: {}, p-value: {}\".format(t_stat, p_value))\n",
        "    print(\"Is the distribution Likely Normal? {}\".format(p_value > p_level))\n",
        "    return p_value > p_level\n",
        "\n",
        "quiz_tests.test_is_normal_ks(is_normal_ks)"
      ],
      "execution_count": 0,
      "outputs": []
    },
    {
      "metadata": {
        "id": "vwlEGUOdv7B_",
        "colab_type": "code",
        "colab": {}
      },
      "cell_type": "code",
      "source": [
        "# Using Kolmogorov-Smirnov test\n",
        "print(\"Sample A:-\"); is_normal_ks(sample_a);\n",
        "print(\"Sample B:-\"); is_normal_ks(sample_b);"
      ],
      "execution_count": 0,
      "outputs": []
    },
    {
      "metadata": {
        "id": "flqdXdAAv7CO",
        "colab_type": "text"
      },
      "cell_type": "markdown",
      "source": [
        "If you're stuck, you can also check out the solution [here](test_normality_solution.ipynb)"
      ]
    }
  ]
}