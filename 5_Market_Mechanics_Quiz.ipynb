{
  "nbformat": 4,
  "nbformat_minor": 0,
  "metadata": {
    "colab": {
      "name": "5. Market Mechanics_Quiz.ipynb",
      "version": "0.3.2",
      "provenance": [],
      "include_colab_link": true
    },
    "kernelspec": {
      "display_name": "Python 3",
      "language": "python",
      "name": "python3"
    }
  },
  "cells": [
    {
      "cell_type": "markdown",
      "metadata": {
        "id": "view-in-github",
        "colab_type": "text"
      },
      "source": [
        "<a href=\"https://colab.research.google.com/github/JunnieLee/AI-for-trading/blob/master/5_Market_Mechanics_Quiz.ipynb\" target=\"_parent\"><img src=\"https://colab.research.google.com/assets/colab-badge.svg\" alt=\"Open In Colab\"/></a>"
      ]
    },
    {
      "metadata": {
        "id": "FdrpBLQy6elt",
        "colab_type": "text"
      },
      "cell_type": "markdown",
      "source": [
        "https://blog.naver.com/heunghari/221458400439"
      ]
    },
    {
      "metadata": {
        "id": "YTWk-9Ga6el0",
        "colab_type": "text"
      },
      "cell_type": "markdown",
      "source": [
        "# Resample Data\n",
        "## Pandas Resample\n",
        "You've learned about bucketing to different periods of time like Months. Let's see how it's done. We'll start with an example series of days."
      ]
    },
    {
      "metadata": {
        "id": "Ji7Evd_q6el6",
        "colab_type": "code",
        "colab": {},
        "outputId": "48acbe1e-8682-41e4-fe99-e5f53d6d2295"
      },
      "cell_type": "code",
      "source": [
        "import numpy as np\n",
        "import pandas as pd\n",
        "\n",
        "dates = pd.date_range('10/10/2018', periods=11, freq='D')\n",
        "close_prices = np.arange(len(dates))\n",
        "\n",
        "close = pd.Series(close_prices, dates)\n",
        "close"
      ],
      "execution_count": 0,
      "outputs": [
        {
          "output_type": "execute_result",
          "data": {
            "text/plain": [
              "2018-10-10     0\n",
              "2018-10-11     1\n",
              "2018-10-12     2\n",
              "2018-10-13     3\n",
              "2018-10-14     4\n",
              "2018-10-15     5\n",
              "2018-10-16     6\n",
              "2018-10-17     7\n",
              "2018-10-18     8\n",
              "2018-10-19     9\n",
              "2018-10-20    10\n",
              "Freq: D, dtype: int32"
            ]
          },
          "metadata": {
            "tags": []
          },
          "execution_count": 1
        }
      ]
    },
    {
      "metadata": {
        "id": "70hJu3-16emm",
        "colab_type": "text"
      },
      "cell_type": "markdown",
      "source": [
        "Let's say we want to bucket these days into 3 day periods. To do that, we'll use the [DataFrame.resample](https://pandas.pydata.org/pandas-docs/version/0.21/generated/pandas.DataFrame.resample.html) function. The first parameter in this function is a string called `rule`, which is a representation of how to resample the data. This string representation is made using an offset alias. You can find a list of them [here](http://pandas.pydata.org/pandas-docs/stable/timeseries.html#offset-aliases). To create 3 day periods, we'll set `rule` to \"3D\"."
      ]
    },
    {
      "metadata": {
        "id": "gBQhWlFf6emt",
        "colab_type": "code",
        "colab": {},
        "outputId": "3405578c-b9b8-426c-89a6-bd046d3e6bd8"
      },
      "cell_type": "code",
      "source": [
        "close.resample('3D')"
      ],
      "execution_count": 0,
      "outputs": [
        {
          "output_type": "execute_result",
          "data": {
            "text/plain": [
              "DatetimeIndexResampler [freq=<3 * Days>, axis=0, closed=left, label=left, convention=start, base=0]"
            ]
          },
          "metadata": {
            "tags": []
          },
          "execution_count": 2
        }
      ]
    },
    {
      "metadata": {
        "id": "j_QMYQiV6enF",
        "colab_type": "text"
      },
      "cell_type": "markdown",
      "source": [
        "This returns a `DatetimeIndexResampler` object. It's an intermediate object similar to the `GroupBy` object. Just like group by, it breaks the original data into groups. That means, we'll have to apply an operation to these groups. Let's make it simple and get the first element from each group."
      ]
    },
    {
      "metadata": {
        "id": "GAUTwizs6enN",
        "colab_type": "code",
        "colab": {},
        "outputId": "18d19860-2bbb-48be-c08d-c121a09426d4"
      },
      "cell_type": "code",
      "source": [
        "close.resample('3D').first()"
      ],
      "execution_count": 0,
      "outputs": [
        {
          "output_type": "execute_result",
          "data": {
            "text/plain": [
              "2018-10-10    0\n",
              "2018-10-13    3\n",
              "2018-10-16    6\n",
              "2018-10-19    9\n",
              "dtype: int32"
            ]
          },
          "metadata": {
            "tags": []
          },
          "execution_count": 3
        }
      ]
    },
    {
      "metadata": {
        "id": "D9vOpe2N6enj",
        "colab_type": "text"
      },
      "cell_type": "markdown",
      "source": [
        "You might notice that this is the same as `.iloc[::3]`"
      ]
    },
    {
      "metadata": {
        "id": "5i1vv9256enn",
        "colab_type": "code",
        "colab": {},
        "outputId": "29d93a08-a84f-4830-8451-737f56ae9d61"
      },
      "cell_type": "code",
      "source": [
        "close.iloc[:7:3]"
      ],
      "execution_count": 0,
      "outputs": [
        {
          "output_type": "execute_result",
          "data": {
            "text/plain": [
              "2018-10-10    0\n",
              "2018-10-13    3\n",
              "2018-10-16    6\n",
              "Freq: 3D, dtype: int32"
            ]
          },
          "metadata": {
            "tags": []
          },
          "execution_count": 4
        }
      ]
    },
    {
      "metadata": {
        "id": "ewLRfdBK6en5",
        "colab_type": "text"
      },
      "cell_type": "markdown",
      "source": [
        "So, why use the `resample` function instead of `.iloc[::3]` or the `groupby` function?\n",
        "\n",
        "The `resample` function shines when handling time and/or date specific tasks. In fact, you can't use this function if the index isn't a [time-related class](https://pandas.pydata.org/pandas-docs/version/0.21/timeseries.html#overview)."
      ]
    },
    {
      "metadata": {
        "id": "m-CoNfsn6eoA",
        "colab_type": "code",
        "colab": {},
        "outputId": "2234cdf9-992b-420c-b4f8-660a550d2e8c"
      },
      "cell_type": "code",
      "source": [
        "try:\n",
        "    # Attempt resample on a series without a time index\n",
        "    pd.Series(close_prices).resample('W')\n",
        "except TypeError:\n",
        "    print('It threw a TypeError.')\n",
        "else:\n",
        "    print('It worked.')\n",
        "\n",
        "    \n",
        "close_prices.resample('W').first()"
      ],
      "execution_count": 0,
      "outputs": [
        {
          "output_type": "stream",
          "text": [
            "It threw a TypeError.\n"
          ],
          "name": "stdout"
        },
        {
          "output_type": "error",
          "ename": "AttributeError",
          "evalue": "'numpy.ndarray' object has no attribute 'resample'",
          "traceback": [
            "\u001b[1;31m---------------------------------------------------------------------------\u001b[0m",
            "\u001b[1;31mAttributeError\u001b[0m                            Traceback (most recent call last)",
            "\u001b[1;32m<ipython-input-5-4b093c90b5ac>\u001b[0m in \u001b[0;36m<module>\u001b[1;34m()\u001b[0m\n\u001b[0;32m      8\u001b[0m \u001b[1;33m\u001b[0m\u001b[0m\n\u001b[0;32m      9\u001b[0m \u001b[1;33m\u001b[0m\u001b[0m\n\u001b[1;32m---> 10\u001b[1;33m \u001b[0mclose_prices\u001b[0m\u001b[1;33m.\u001b[0m\u001b[0mresample\u001b[0m\u001b[1;33m(\u001b[0m\u001b[1;34m'W'\u001b[0m\u001b[1;33m)\u001b[0m\u001b[1;33m.\u001b[0m\u001b[0mfirst\u001b[0m\u001b[1;33m(\u001b[0m\u001b[1;33m)\u001b[0m\u001b[1;33m\u001b[0m\u001b[0m\n\u001b[0m",
            "\u001b[1;31mAttributeError\u001b[0m: 'numpy.ndarray' object has no attribute 'resample'"
          ]
        }
      ]
    },
    {
      "metadata": {
        "id": "_QoMrSx36eoU",
        "colab_type": "text"
      },
      "cell_type": "markdown",
      "source": [
        "One of the resampling tasks it can help with is resampling on periods, like weeks. Let's resample `close` from it's days frequency to weeks. We'll use the \"W\" offset allies, which stands for Weeks."
      ]
    },
    {
      "metadata": {
        "id": "eTX7IlXF6eof",
        "colab_type": "code",
        "colab": {},
        "outputId": "0a99de4b-1205-4349-dcc0-02ec893e91c1"
      },
      "cell_type": "code",
      "source": [
        "pd.DataFrame({\n",
        "    'days': close,\n",
        "    'weeks': close.resample('W').first()})"
      ],
      "execution_count": 0,
      "outputs": [
        {
          "output_type": "execute_result",
          "data": {
            "text/html": [
              "<div>\n",
              "<style>\n",
              "    .dataframe thead tr:only-child th {\n",
              "        text-align: right;\n",
              "    }\n",
              "\n",
              "    .dataframe thead th {\n",
              "        text-align: left;\n",
              "    }\n",
              "\n",
              "    .dataframe tbody tr th {\n",
              "        vertical-align: top;\n",
              "    }\n",
              "</style>\n",
              "<table border=\"1\" class=\"dataframe\">\n",
              "  <thead>\n",
              "    <tr style=\"text-align: right;\">\n",
              "      <th></th>\n",
              "      <th>days</th>\n",
              "      <th>weeks</th>\n",
              "    </tr>\n",
              "  </thead>\n",
              "  <tbody>\n",
              "    <tr>\n",
              "      <th>2018-10-10</th>\n",
              "      <td>0.0</td>\n",
              "      <td>NaN</td>\n",
              "    </tr>\n",
              "    <tr>\n",
              "      <th>2018-10-11</th>\n",
              "      <td>1.0</td>\n",
              "      <td>NaN</td>\n",
              "    </tr>\n",
              "    <tr>\n",
              "      <th>2018-10-12</th>\n",
              "      <td>2.0</td>\n",
              "      <td>NaN</td>\n",
              "    </tr>\n",
              "    <tr>\n",
              "      <th>2018-10-13</th>\n",
              "      <td>3.0</td>\n",
              "      <td>NaN</td>\n",
              "    </tr>\n",
              "    <tr>\n",
              "      <th>2018-10-14</th>\n",
              "      <td>4.0</td>\n",
              "      <td>0.0</td>\n",
              "    </tr>\n",
              "    <tr>\n",
              "      <th>2018-10-15</th>\n",
              "      <td>5.0</td>\n",
              "      <td>NaN</td>\n",
              "    </tr>\n",
              "    <tr>\n",
              "      <th>2018-10-16</th>\n",
              "      <td>6.0</td>\n",
              "      <td>NaN</td>\n",
              "    </tr>\n",
              "    <tr>\n",
              "      <th>2018-10-17</th>\n",
              "      <td>7.0</td>\n",
              "      <td>NaN</td>\n",
              "    </tr>\n",
              "    <tr>\n",
              "      <th>2018-10-18</th>\n",
              "      <td>8.0</td>\n",
              "      <td>NaN</td>\n",
              "    </tr>\n",
              "    <tr>\n",
              "      <th>2018-10-19</th>\n",
              "      <td>9.0</td>\n",
              "      <td>NaN</td>\n",
              "    </tr>\n",
              "    <tr>\n",
              "      <th>2018-10-20</th>\n",
              "      <td>10.0</td>\n",
              "      <td>NaN</td>\n",
              "    </tr>\n",
              "    <tr>\n",
              "      <th>2018-10-21</th>\n",
              "      <td>NaN</td>\n",
              "      <td>5.0</td>\n",
              "    </tr>\n",
              "  </tbody>\n",
              "</table>\n",
              "</div>"
            ],
            "text/plain": [
              "            days  weeks\n",
              "2018-10-10   0.0    NaN\n",
              "2018-10-11   1.0    NaN\n",
              "2018-10-12   2.0    NaN\n",
              "2018-10-13   3.0    NaN\n",
              "2018-10-14   4.0    0.0\n",
              "2018-10-15   5.0    NaN\n",
              "2018-10-16   6.0    NaN\n",
              "2018-10-17   7.0    NaN\n",
              "2018-10-18   8.0    NaN\n",
              "2018-10-19   9.0    NaN\n",
              "2018-10-20  10.0    NaN\n",
              "2018-10-21   NaN    5.0"
            ]
          },
          "metadata": {
            "tags": []
          },
          "execution_count": 13
        }
      ]
    },
    {
      "metadata": {
        "id": "wENomuJA6eo3",
        "colab_type": "text"
      },
      "cell_type": "markdown",
      "source": [
        "The weeks offset considers the start of a week on a Monday. Since 2018-10-10 is a Wednesday, the first group only looks at the first 5 items. There are offsets that handle more complicated problems like filtering for Holidays. For now, we'll only worry about resampling for days, weeks, months, quarters, and years. The frequency you want the data to be in, will depend on how often you'll be trading. If you're making trade decisions based on reports that come out at the end of the year, we might only care about a frequency of years or months.\n",
        "## OHLC\n",
        "Now that you've seen how Pandas resamples time series data, we can apply this to Open, High, Low, and Close (OHLC). Pandas provides the [`Resampler.ohlc`](https://pandas.pydata.org/pandas-docs/version/0.21.0/generated/pandas.core.resample.Resampler.ohlc.html#pandas.core.resample.Resampler.ohlc) function will convert any resampling frequency to OHLC data. Let's get the Weekly OHLC."
      ]
    },
    {
      "metadata": {
        "id": "WH1ZPvsV6eo8",
        "colab_type": "code",
        "colab": {},
        "outputId": "56708151-478e-4aa1-e81f-7a862b56191b"
      },
      "cell_type": "code",
      "source": [
        "close.resample('W').ohlc()"
      ],
      "execution_count": 0,
      "outputs": [
        {
          "output_type": "execute_result",
          "data": {
            "text/html": [
              "<div>\n",
              "<style>\n",
              "    .dataframe thead tr:only-child th {\n",
              "        text-align: right;\n",
              "    }\n",
              "\n",
              "    .dataframe thead th {\n",
              "        text-align: left;\n",
              "    }\n",
              "\n",
              "    .dataframe tbody tr th {\n",
              "        vertical-align: top;\n",
              "    }\n",
              "</style>\n",
              "<table border=\"1\" class=\"dataframe\">\n",
              "  <thead>\n",
              "    <tr style=\"text-align: right;\">\n",
              "      <th></th>\n",
              "      <th>open</th>\n",
              "      <th>high</th>\n",
              "      <th>low</th>\n",
              "      <th>close</th>\n",
              "    </tr>\n",
              "  </thead>\n",
              "  <tbody>\n",
              "    <tr>\n",
              "      <th>2018-10-14</th>\n",
              "      <td>0</td>\n",
              "      <td>4</td>\n",
              "      <td>0</td>\n",
              "      <td>4</td>\n",
              "    </tr>\n",
              "    <tr>\n",
              "      <th>2018-10-21</th>\n",
              "      <td>5</td>\n",
              "      <td>10</td>\n",
              "      <td>5</td>\n",
              "      <td>10</td>\n",
              "    </tr>\n",
              "  </tbody>\n",
              "</table>\n",
              "</div>"
            ],
            "text/plain": [
              "            open  high  low  close\n",
              "2018-10-14     0     4    0      4\n",
              "2018-10-21     5    10    5     10"
            ]
          },
          "metadata": {
            "tags": []
          },
          "execution_count": 14
        }
      ]
    },
    {
      "metadata": {
        "id": "9ZKEO7FW6epS",
        "colab_type": "text"
      },
      "cell_type": "markdown",
      "source": [
        "Can you spot a potential problem with that? It has to do with resampling data that has already been resampled.\n",
        "\n",
        "We're getting the OHLC from close data. If we want OHLC data from already resampled data, we should resample the first price from the open data, resample the highest price from the high data, etc..\n",
        "\n",
        "To get the weekly closing prices from `close`, you can use the [`Resampler.last`](https://pandas.pydata.org/pandas-docs/version/0.21.0/generated/pandas.core.resample.Resampler.last.html#pandas.core.resample.Resampler.last) function."
      ]
    },
    {
      "metadata": {
        "id": "blA-XcgQ6epZ",
        "colab_type": "code",
        "colab": {},
        "outputId": "348580f1-c939-455f-d0a6-32f7a47b151a"
      },
      "cell_type": "code",
      "source": [
        "close.resample('W').last()"
      ],
      "execution_count": 0,
      "outputs": [
        {
          "output_type": "execute_result",
          "data": {
            "text/plain": [
              "2018-10-14     4\n",
              "2018-10-21    10\n",
              "Freq: W-SUN, dtype: int64"
            ]
          },
          "metadata": {
            "tags": []
          },
          "execution_count": 15
        }
      ]
    },
    {
      "metadata": {
        "id": "5YpY2U556epu",
        "colab_type": "text"
      },
      "cell_type": "markdown",
      "source": [
        "## Quiz\n",
        "Implement `days_to_weeks` function to resample OHLC price data to weekly OHLC price data. You find find more Resampler functions [here](https://pandas.pydata.org/pandas-docs/version/0.21.0/api.html#id44) for calculating high and low prices."
      ]
    },
    {
      "metadata": {
        "id": "TJiob1qe6ep3",
        "colab_type": "code",
        "colab": {},
        "outputId": "9a9b750a-a1f7-479f-9d0b-5b2dcdf4f8cc"
      },
      "cell_type": "code",
      "source": [
        "import quiz_tests\n",
        "\n",
        "def days_to_weeks(open_prices, high_prices, low_prices, close_prices):\n",
        "    open_prices_weekly=open_prices.resample('W').first()\n",
        "    high_prices_weekly=high_prices.resample('W').max()\n",
        "    low_prices_weekly=low_prices.resample('W').min()\n",
        "    close_prices_weekly=close_prices.resample('W').last()\n",
        "    \n",
        "    return open_prices_weekly,high_prices_weekly,low_prices_weekly,close_prices_weekly\n",
        "\n",
        "\n",
        "quiz_tests.test_days_to_weeks(days_to_weeks)"
      ],
      "execution_count": 0,
      "outputs": [
        {
          "output_type": "stream",
          "text": [
            "Tests Passed\n"
          ],
          "name": "stdout"
        }
      ]
    },
    {
      "metadata": {
        "id": "4uTB9CDb6eqj",
        "colab_type": "text"
      },
      "cell_type": "markdown",
      "source": [
        "## Quiz Solution\n",
        "If you're having trouble, you can check out the quiz solution [here](resample_data_solution.ipynb)."
      ]
    }
  ]
}