{
  "nbformat": 4,
  "nbformat_minor": 0,
  "metadata": {
    "colab": {
      "name": "14_volatility_rolling_windows.ipynb",
      "version": "0.3.2",
      "provenance": [],
      "include_colab_link": true
    },
    "kernelspec": {
      "display_name": "Python 3",
      "language": "python",
      "name": "python3"
    }
  },
  "cells": [
    {
      "cell_type": "markdown",
      "metadata": {
        "id": "view-in-github",
        "colab_type": "text"
      },
      "source": [
        "<a href=\"https://colab.research.google.com/github/JunnieLee/AI-for-trading/blob/master/14_volatility_rolling_windows.ipynb\" target=\"_parent\"><img src=\"https://colab.research.google.com/assets/colab-badge.svg\" alt=\"Open In Colab\"/></a>"
      ]
    },
    {
      "metadata": {
        "id": "PvkDX8DoGRUo",
        "colab_type": "text"
      },
      "cell_type": "markdown",
      "source": [
        "# Rolling Windows\n",
        "\n",
        "## Pandas.DataFrame.rolling\n",
        "\n",
        "\n",
        "You've just leared about rolling windows.  Let's see how we can use rolling function in pandas to create the rolling windows\n",
        "\n",
        "First, let's create a simple dataframe!\n"
      ]
    },
    {
      "metadata": {
        "id": "U2m2452rGRU4",
        "colab_type": "code",
        "colab": {},
        "outputId": "0c18c15a-8fee-4a35-a7f5-a1c97902ae59"
      },
      "cell_type": "code",
      "source": [
        "import numpy as np\n",
        "import pandas as pd\n",
        "from datetime import datetime\n",
        "\n",
        "dates = pd.date_range(datetime.strptime('10/10/2018', '%m/%d/%Y'), periods=11, freq='D')\n",
        "close_prices = np.arange(len(dates))\n",
        "\n",
        "close = pd.Series(close_prices, dates)\n",
        "close"
      ],
      "execution_count": 0,
      "outputs": [
        {
          "output_type": "execute_result",
          "data": {
            "text/plain": [
              "2018-10-10     0\n",
              "2018-10-11     1\n",
              "2018-10-12     2\n",
              "2018-10-13     3\n",
              "2018-10-14     4\n",
              "2018-10-15     5\n",
              "2018-10-16     6\n",
              "2018-10-17     7\n",
              "2018-10-18     8\n",
              "2018-10-19     9\n",
              "2018-10-20    10\n",
              "Freq: D, dtype: int32"
            ]
          },
          "metadata": {
            "tags": []
          },
          "execution_count": 5
        }
      ]
    },
    {
      "metadata": {
        "id": "eWNjJYNrGRV_",
        "colab_type": "text"
      },
      "cell_type": "markdown",
      "source": [
        "Here, we will introduce rolling function from pandas.  The rolling function helps to provide rolling windows that can be customized through different parameters.  \n",
        "\n",
        "You can learn more about [rolling function here](https://pandas.pydata.org/pandas-docs/version/0.22/generated/pandas.DataFrame.rolling.html)\n",
        "\n",
        "Let's take a look at a quick sample.  "
      ]
    },
    {
      "metadata": {
        "id": "CTJPGWWPGRWK",
        "colab_type": "code",
        "colab": {},
        "outputId": "6707a21d-763d-43a0-fa96-66e21688453a"
      },
      "cell_type": "code",
      "source": [
        "close.rolling(window = 3)"
      ],
      "execution_count": 0,
      "outputs": [
        {
          "output_type": "execute_result",
          "data": {
            "text/plain": [
              "Rolling [window=3,center=False,axis=0]"
            ]
          },
          "metadata": {
            "tags": []
          },
          "execution_count": 6
        }
      ]
    },
    {
      "metadata": {
        "id": "o7Ev1toCGRWl",
        "colab_type": "text"
      },
      "cell_type": "markdown",
      "source": [
        "This returns a Rolling object. Just like what you've seen before, it's an intermediate object similar to the GroupBy object which breaks the original data into groups. That means, we'll have to apply an operation to these groups. Let's try with sum function."
      ]
    },
    {
      "metadata": {
        "id": "8n2Ns1RuGRW7",
        "colab_type": "code",
        "colab": {},
        "outputId": "94434830-bca1-46a0-9641-9b99a345eb05"
      },
      "cell_type": "code",
      "source": [
        "close.rolling(window = 3).sum()"
      ],
      "execution_count": 0,
      "outputs": [
        {
          "output_type": "execute_result",
          "data": {
            "text/plain": [
              "2018-10-10           nan\n",
              "2018-10-11           nan\n",
              "2018-10-12    3.00000000\n",
              "2018-10-13    6.00000000\n",
              "2018-10-14    9.00000000\n",
              "2018-10-15   12.00000000\n",
              "2018-10-16   15.00000000\n",
              "2018-10-17   18.00000000\n",
              "2018-10-18   21.00000000\n",
              "2018-10-19   24.00000000\n",
              "2018-10-20   27.00000000\n",
              "Freq: D, dtype: float64"
            ]
          },
          "metadata": {
            "tags": []
          },
          "execution_count": 7
        }
      ]
    },
    {
      "metadata": {
        "id": "JdE3c2Q-GRXR",
        "colab_type": "text"
      },
      "cell_type": "markdown",
      "source": [
        "The window parameter defines the size of the moving window. This is the number of observations used for calculating the statistics which is the \"sum\" in our case.\n",
        "\n",
        "For example, the output for 2018-10-12 is 3, which equals to the sum of the previous 3 data points, 0 + 1 + 2.\n",
        "Another example is 2018-10-20 is 27, which equals to 8+ 9 + 10\n",
        "\n",
        "Not just for summation, we can also apply other functions that we've learned in the previous lessons, such as max, min or even more.  \n",
        "\n",
        "Let's have a look at another quick example"
      ]
    },
    {
      "metadata": {
        "id": "4VF4RdlIGRXV",
        "colab_type": "code",
        "colab": {},
        "outputId": "b785cd00-1a41-48b4-f8ba-87906818d13f"
      },
      "cell_type": "code",
      "source": [
        "close.rolling(window = 3).min()"
      ],
      "execution_count": 0,
      "outputs": [
        {
          "output_type": "execute_result",
          "data": {
            "text/plain": [
              "2018-10-10          nan\n",
              "2018-10-11          nan\n",
              "2018-10-12   0.00000000\n",
              "2018-10-13   1.00000000\n",
              "2018-10-14   2.00000000\n",
              "2018-10-15   3.00000000\n",
              "2018-10-16   4.00000000\n",
              "2018-10-17   5.00000000\n",
              "2018-10-18   6.00000000\n",
              "2018-10-19   7.00000000\n",
              "2018-10-20   8.00000000\n",
              "Freq: D, dtype: float64"
            ]
          },
          "metadata": {
            "tags": []
          },
          "execution_count": 8
        }
      ]
    },
    {
      "metadata": {
        "id": "vjotbOGqGRXu",
        "colab_type": "text"
      },
      "cell_type": "markdown",
      "source": [
        "Now, the output returns the minimum of the past three data points. \n",
        "\n",
        "By the way, have you noticed that we are getting NaN for close.rolling(window = 3).sum().  Since we are asking to calculate the mininum of the past 3 data points.  For 2018-10-10 and 2018-10-11, there are no enough data points in the past for our calculation, that's why we get NaN as outputs.  \n",
        "\n",
        "There are many other parameters you can play with for this rolling function, such as min_period or so.  Please refer to [the python documentation](https://pandas.pydata.org/pandas-docs/version/0.22/generated/pandas.DataFrame.rolling.html) for more details\n"
      ]
    },
    {
      "metadata": {
        "id": "QZ1a4GtZGRX2",
        "colab_type": "text"
      },
      "cell_type": "markdown",
      "source": [
        "## Quiz: Calculate Simple Moving Average\n",
        "\n",
        "Through out the program, you will learn to generate alpha factors.  However, signals are always noisy.  A common practise from the industry is to smooth the factors by using simple moving average.  In this quiz, we can create a simple function that you can specify the rolling window and calculate the simple moving average of a time series.  "
      ]
    },
    {
      "metadata": {
        "id": "RekVygNVGRX-",
        "colab_type": "code",
        "colab": {},
        "outputId": "b68cae5f-462b-4a20-92e8-aa2303091d23"
      },
      "cell_type": "code",
      "source": [
        "import quiz_tests\n",
        "\n",
        "def calculate_simple_moving_average(rolling_window, close):\n",
        "    \"\"\"\n",
        "    Compute returns for each ticker and date in close.\n",
        "    \n",
        "    Parameters\n",
        "    ----------\n",
        "    close : DataFrame\n",
        "        Close prices for each ticker and date\n",
        "    \n",
        "    Returns\n",
        "    -------\n",
        "    returns : DataFrame\n",
        "        Returns for each ticker and date\n",
        "    \"\"\"\n",
        "    \n",
        "    # TODO: Implement Function\n",
        "\n",
        "    return close.rolling(window = rolling_window).mean()\n",
        "\n",
        "quiz_tests.test_calculate_simple_moving_average(calculate_simple_moving_average)"
      ],
      "execution_count": 0,
      "outputs": [
        {
          "output_type": "stream",
          "text": [
            "Tests Passed\n"
          ],
          "name": "stdout"
        }
      ]
    },
    {
      "metadata": {
        "id": "VIQwreDzGRYq",
        "colab_type": "text"
      },
      "cell_type": "markdown",
      "source": [
        "## Quiz Solution\n",
        "If you're having trouble, you can check out the quiz solution [here](rolling_windows_solution.ipynb)."
      ]
    }
  ]
}