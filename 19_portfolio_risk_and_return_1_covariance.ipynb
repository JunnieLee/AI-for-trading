{
  "nbformat": 4,
  "nbformat_minor": 0,
  "metadata": {
    "colab": {
      "name": "19_portfolio_risk_and_return_1_covariance.ipynb",
      "version": "0.3.2",
      "provenance": [],
      "include_colab_link": true
    },
    "kernelspec": {
      "display_name": "Python 3",
      "language": "python",
      "name": "python3"
    }
  },
  "cells": [
    {
      "cell_type": "markdown",
      "metadata": {
        "id": "view-in-github",
        "colab_type": "text"
      },
      "source": [
        "<a href=\"https://colab.research.google.com/github/JunnieLee/AI-for-trading/blob/master/19_portfolio_risk_and_return_1_covariance.ipynb\" target=\"_parent\"><img src=\"https://colab.research.google.com/assets/colab-badge.svg\" alt=\"Open In Colab\"/></a>"
      ]
    },
    {
      "metadata": {
        "id": "K7ElDyiul4vM",
        "colab_type": "text"
      },
      "cell_type": "markdown",
      "source": [
        "# Covariance Matrix"
      ]
    },
    {
      "metadata": {
        "id": "yTkShQiPl4va",
        "colab_type": "text"
      },
      "cell_type": "markdown",
      "source": [
        "## Install libraries"
      ]
    },
    {
      "metadata": {
        "id": "y-GB_gKal4vj",
        "colab_type": "code",
        "colab": {},
        "outputId": "2a408693-b43a-4df6-9b05-354ee7bcce05"
      },
      "cell_type": "code",
      "source": [
        "import sys\n",
        "!{sys.executable} -m pip install -r requirements.txt"
      ],
      "execution_count": 0,
      "outputs": [
        {
          "output_type": "stream",
          "text": [
            "Requirement already satisfied: numpy==1.14.5 in c:\\users\\junnie\\appdata\\local\\programs\\python\\python36-32\\lib\\site-packages (from -r requirements.txt (line 1)) (1.14.5)\n"
          ],
          "name": "stdout"
        },
        {
          "output_type": "stream",
          "text": [
            "You are using pip version 18.1, however version 19.0.2 is available.\n",
            "You should consider upgrading via the 'python -m pip install --upgrade pip' command.\n"
          ],
          "name": "stderr"
        }
      ]
    },
    {
      "metadata": {
        "id": "nP_YmLJUl4we",
        "colab_type": "text"
      },
      "cell_type": "markdown",
      "source": [
        "## Imports"
      ]
    },
    {
      "metadata": {
        "id": "Ce_k4B9dl4wn",
        "colab_type": "code",
        "colab": {}
      },
      "cell_type": "code",
      "source": [
        "import numpy as np\n",
        "import quiz_tests"
      ],
      "execution_count": 0,
      "outputs": []
    },
    {
      "metadata": {
        "id": "xdvd7l4ll4xB",
        "colab_type": "text"
      },
      "cell_type": "markdown",
      "source": [
        "## Hints\n",
        "\n",
        "### covariance matrix\n",
        "If we have $m$ stock series, the covariance matrix is an $m \\times m$ matrix containing the covariance between each pair of stocks.  We can use [numpy.cov](https://docs.scipy.org/doc/numpy/reference/generated/numpy.cov.html) to get the covariance.  We give it a 2D array in which each row is a stock series, and each column is an observation at the same period of time.\n",
        "\n",
        "The covariance matrix $\\mathbf{P} = \n",
        "\\begin{bmatrix}\n",
        "\\sigma^2_{1,1} & ... & \\sigma^2_{1,m} \\\\ \n",
        "... & ... & ...\\\\\n",
        "\\sigma_{m,1} & ... & \\sigma^2_{m,m}  \\\\\n",
        "\\end{bmatrix}$"
      ]
    },
    {
      "metadata": {
        "id": "1P8IAkY0l4xO",
        "colab_type": "text"
      },
      "cell_type": "markdown",
      "source": [
        "## Quiz"
      ]
    },
    {
      "metadata": {
        "id": "67K2YEOcl4xa",
        "colab_type": "code",
        "colab": {},
        "outputId": "b4bed7d5-46d4-4ee5-83db-5a1e20f7f7c6"
      },
      "cell_type": "code",
      "source": [
        "import numpy as np\n",
        "\n",
        "def covariance_matrix(returns):\n",
        "    \"\"\"\n",
        "    Create a function that takes the return series of a set of stocks\n",
        "    and calculates the covariance matrix.\n",
        "    \n",
        "    Parameters\n",
        "    ----------\n",
        "    returns : numpy.ndarray\n",
        "        2D array containing stock return series in each row.\n",
        "                \n",
        "    Returns\n",
        "    -------\n",
        "    x : np.ndarray\n",
        "        A numpy ndarray containing the covariance matrix\n",
        "    \"\"\"\n",
        "    \n",
        "    #covariance matrix of returns\n",
        "    cov = np.cov(returns)\n",
        "        \n",
        "    return cov\n",
        "\n",
        "quiz_tests.test_covariance_matrix(covariance_matrix)"
      ],
      "execution_count": 0,
      "outputs": [
        {
          "output_type": "stream",
          "text": [
            "Tests Passed\n"
          ],
          "name": "stdout"
        }
      ]
    },
    {
      "metadata": {
        "id": "d_wJmtrll4yR",
        "colab_type": "code",
        "colab": {},
        "outputId": "12f74b4e-3a63-49c8-f181-c86b02f84928"
      },
      "cell_type": "code",
      "source": [
        "\"\"\"Test with a 3 simulated stock return series\"\"\"\n",
        "days_per_year = 252\n",
        "years = 3\n",
        "total_days = days_per_year * years\n",
        "\n",
        "return_market = np.random.normal(loc=0.05, scale=0.3, size=days_per_year)\n",
        "return_1 = np.random.uniform(low=-0.000001, high=.000001, size=days_per_year) + return_market\n",
        "return_2 = np.random.uniform(low=-0.000001, high=.000001, size=days_per_year) + return_market\n",
        "return_3 = np.random.uniform(low=-0.000001, high=.000001, size=days_per_year) + return_market\n",
        "returns = np.array([return_1, return_2, return_3])\n",
        "\n",
        "\"\"\"try out your function\"\"\"\n",
        "cov = covariance_matrix(returns)\n",
        "\n",
        "print(f\"The covariance matrix is \\n{cov}\")"
      ],
      "execution_count": 0,
      "outputs": [
        {
          "output_type": "stream",
          "text": [
            "The covariance matrix is \n",
            "[[0.07753049 0.07753048 0.07753049]\n",
            " [0.07753048 0.07753048 0.07753049]\n",
            " [0.07753049 0.07753049 0.0775305 ]]\n"
          ],
          "name": "stdout"
        }
      ]
    },
    {
      "metadata": {
        "id": "y7QP6H6sl4zJ",
        "colab_type": "text"
      },
      "cell_type": "markdown",
      "source": [
        "If you're stuck, you can also check out the solution [here](m3l4_covariance_solution.ipynb)"
      ]
    }
  ]
}