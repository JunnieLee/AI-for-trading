{
  "nbformat": 4,
  "nbformat_minor": 0,
  "metadata": {
    "colab": {
      "name": "20_portfolio_optimization_1_cvxpy_basic.ipynb",
      "version": "0.3.2",
      "provenance": [],
      "include_colab_link": true
    },
    "kernelspec": {
      "display_name": "Python 3",
      "language": "python",
      "name": "python3"
    }
  },
  "cells": [
    {
      "cell_type": "markdown",
      "metadata": {
        "id": "view-in-github",
        "colab_type": "text"
      },
      "source": [
        "<a href=\"https://colab.research.google.com/github/JunnieLee/AI-for-trading/blob/master/20_portfolio_optimization_1_cvxpy_basic.ipynb\" target=\"_parent\"><img src=\"https://colab.research.google.com/assets/colab-badge.svg\" alt=\"Open In Colab\"/></a>"
      ]
    },
    {
      "metadata": {
        "id": "5QheWr-WHlwS",
        "colab_type": "text"
      },
      "cell_type": "markdown",
      "source": [
        "# Portfolio Optimization using cvxpy"
      ]
    },
    {
      "metadata": {
        "id": "IRuey5rAHlwY",
        "colab_type": "text"
      },
      "cell_type": "markdown",
      "source": [
        "## Install cvxpy and other libraries"
      ]
    },
    {
      "metadata": {
        "id": "k9IW6ajJHlwb",
        "colab_type": "code",
        "colab": {},
        "outputId": "c3102852-6d98-46c9-ef9e-5fa9aad8f871"
      },
      "cell_type": "code",
      "source": [
        "import sys\n",
        "!{sys.executable} -m pip install -r requirements.txt"
      ],
      "execution_count": 0,
      "outputs": [
        {
          "output_type": "stream",
          "text": [
            "Requirement already satisfied: colour==0.1.5 in c:\\users\\junnie\\appdata\\local\\programs\\python\\python36-32\\lib\\site-packages (from -r requirements.txt (line 1)) (0.1.5)\n",
            "Collecting cvxpy==1.0.3 (from -r requirements.txt (line 2))\n",
            "  Downloading https://files.pythonhosted.org/packages/a1/59/2613468ffbbe3a818934d06b81b9f4877fe054afbf4f99d2f43f398a0b34/cvxpy-1.0.3.tar.gz (880kB)\n",
            "Requirement already satisfied: cycler==0.10.0 in c:\\users\\junnie\\appdata\\local\\programs\\python\\python36-32\\lib\\site-packages (from -r requirements.txt (line 3)) (0.10.0)\n",
            "Requirement already satisfied: numpy==1.14.5 in c:\\users\\junnie\\appdata\\local\\programs\\python\\python36-32\\lib\\site-packages (from -r requirements.txt (line 4)) (1.14.5)\n",
            "Requirement already satisfied: pandas==0.21.1 in c:\\users\\junnie\\appdata\\local\\programs\\python\\python36-32\\lib\\site-packages (from -r requirements.txt (line 5)) (0.21.1)\n",
            "Requirement already satisfied: plotly==2.2.3 in c:\\users\\junnie\\appdata\\local\\programs\\python\\python36-32\\lib\\site-packages (from -r requirements.txt (line 6)) (2.2.3)\n",
            "Collecting pyparsing==2.2.0 (from -r requirements.txt (line 7))\n",
            "  Using cached https://files.pythonhosted.org/packages/6a/8a/718fd7d3458f9fab8e67186b00abdd345b639976bc7fb3ae722e1b026a50/pyparsing-2.2.0-py2.py3-none-any.whl\n",
            "Collecting python-dateutil==2.6.1 (from -r requirements.txt (line 8))\n",
            "  Downloading https://files.pythonhosted.org/packages/4b/0d/7ed381ab4fe80b8ebf34411d14f253e1cf3e56e2820ffa1d8844b23859a2/python_dateutil-2.6.1-py2.py3-none-any.whl (194kB)\n",
            "Collecting pytz==2017.3 (from -r requirements.txt (line 9))\n",
            "  Downloading https://files.pythonhosted.org/packages/a3/7f/e7d1acbd433b929168a4fb4182a2ff3c33653717195a26c1de099ad1ef29/pytz-2017.3-py2.py3-none-any.whl (511kB)\n",
            "Collecting requests==2.18.4 (from -r requirements.txt (line 10))\n",
            "  Downloading https://files.pythonhosted.org/packages/49/df/50aa1999ab9bde74656c2919d9c0c085fd2b3775fd3eca826012bef76d8c/requests-2.18.4-py2.py3-none-any.whl (88kB)\n",
            "Requirement already satisfied: scipy==1.0.0 in c:\\users\\junnie\\appdata\\local\\programs\\python\\python36-32\\lib\\site-packages (from -r requirements.txt (line 11)) (1.0.0)\n",
            "Requirement already satisfied: scikit-learn==0.19.1 in c:\\users\\junnie\\appdata\\local\\programs\\python\\python36-32\\lib\\site-packages (from -r requirements.txt (line 12)) (0.19.1)\n",
            "Requirement already satisfied: six==1.11.0 in c:\\users\\junnie\\appdata\\local\\programs\\python\\python36-32\\lib\\site-packages (from -r requirements.txt (line 13)) (1.11.0)\n",
            "Collecting tqdm==4.19.5 (from -r requirements.txt (line 14))\n",
            "  Downloading https://files.pythonhosted.org/packages/71/3c/341b4fa23cb3abc335207dba057c790f3bb329f6757e1fcd5d347bcf8308/tqdm-4.19.5-py2.py3-none-any.whl (51kB)\n",
            "Collecting osqp (from cvxpy==1.0.3->-r requirements.txt (line 2))\n",
            "  Downloading https://files.pythonhosted.org/packages/7d/82/6d0e82cd44d283f3494236b6b418b78e8e881d112b38d6402256df7481dd/osqp-0.5.0-cp36-none-win32.whl (135kB)\n",
            "Collecting ecos>=2 (from cvxpy==1.0.3->-r requirements.txt (line 2))\n",
            "  Downloading https://files.pythonhosted.org/packages/32/da/58f7728de88027be5f80c944220dc168871711f8702adb38ecfe5a336e5c/ecos-2.0.7.post1-cp36-cp36m-win32.whl (59kB)\n",
            "Collecting scs>=1.1.3 (from cvxpy==1.0.3->-r requirements.txt (line 2))\n",
            "  Downloading https://files.pythonhosted.org/packages/b3/fd/6e01c4f4a69fcc6c3db130ba55572089e78e77ea8c0921a679f9da1ec04c/scs-2.0.2.tar.gz (133kB)\n",
            "Collecting multiprocess (from cvxpy==1.0.3->-r requirements.txt (line 2))\n",
            "  Downloading https://files.pythonhosted.org/packages/ca/6d/5c03727616f27c0ef46f5ba4cabcea58d893d549a9731ef77accd9467fce/multiprocess-0.70.7-cp36-cp36m-win32.whl (108kB)\n",
            "Collecting fastcache (from cvxpy==1.0.3->-r requirements.txt (line 2))\n",
            "  Downloading https://files.pythonhosted.org/packages/fb/98/93f2d36738868e8dd5a8dbfc918169b24658f63e5fa041fe000c22ae4f8b/fastcache-1.0.2.tar.gz\n",
            "Collecting toolz (from cvxpy==1.0.3->-r requirements.txt (line 2))\n",
            "  Downloading https://files.pythonhosted.org/packages/14/d0/a73c15bbeda3d2e7b381a36afb0d9cd770a9f4adc5d1532691013ba881db/toolz-0.9.0.tar.gz (45kB)\n",
            "Requirement already satisfied: decorator>=4.0.6 in c:\\users\\junnie\\appdata\\local\\programs\\python\\python36-32\\lib\\site-packages (from plotly==2.2.3->-r requirements.txt (line 6)) (4.3.0)\n",
            "Requirement already satisfied: nbformat>=4.2 in c:\\users\\junnie\\appdata\\local\\programs\\python\\python36-32\\lib\\site-packages (from plotly==2.2.3->-r requirements.txt (line 6)) (4.4.0)\n",
            "Requirement already satisfied: certifi>=2017.4.17 in c:\\users\\junnie\\appdata\\local\\programs\\python\\python36-32\\lib\\site-packages (from requests==2.18.4->-r requirements.txt (line 10)) (2018.11.29)\n",
            "Requirement already satisfied: chardet<3.1.0,>=3.0.2 in c:\\users\\junnie\\appdata\\local\\programs\\python\\python36-32\\lib\\site-packages (from requests==2.18.4->-r requirements.txt (line 10)) (3.0.4)\n",
            "Collecting idna<2.7,>=2.5 (from requests==2.18.4->-r requirements.txt (line 10))\n",
            "  Downloading https://files.pythonhosted.org/packages/27/cc/6dd9a3869f15c2edfab863b992838277279ce92663d334df9ecf5106f5c6/idna-2.6-py2.py3-none-any.whl (56kB)\n",
            "Collecting urllib3<1.23,>=1.21.1 (from requests==2.18.4->-r requirements.txt (line 10))\n",
            "  Downloading https://files.pythonhosted.org/packages/63/cb/6965947c13a94236f6d4b8223e21beb4d576dc72e8130bd7880f600839b8/urllib3-1.22-py2.py3-none-any.whl (132kB)\n",
            "Collecting future (from osqp->cvxpy==1.0.3->-r requirements.txt (line 2))\n",
            "  Downloading https://files.pythonhosted.org/packages/90/52/e20466b85000a181e1e144fd8305caf2cf475e2f9674e797b222f8105f5f/future-0.17.1.tar.gz (829kB)\n",
            "Collecting dill>=0.2.9 (from multiprocess->cvxpy==1.0.3->-r requirements.txt (line 2))\n",
            "  Downloading https://files.pythonhosted.org/packages/fe/42/bfe2e0857bc284cbe6a011d93f2a9ad58a22cb894461b199ae72cfef0f29/dill-0.2.9.tar.gz (150kB)\n",
            "Requirement already satisfied: traitlets>=4.1 in c:\\users\\junnie\\appdata\\local\\programs\\python\\python36-32\\lib\\site-packages (from nbformat>=4.2->plotly==2.2.3->-r requirements.txt (line 6)) (4.3.2)\n",
            "Requirement already satisfied: ipython-genutils in c:\\users\\junnie\\appdata\\local\\programs\\python\\python36-32\\lib\\site-packages (from nbformat>=4.2->plotly==2.2.3->-r requirements.txt (line 6)) (0.2.0)\n",
            "Requirement already satisfied: jsonschema!=2.5.0,>=2.4 in c:\\users\\junnie\\appdata\\local\\programs\\python\\python36-32\\lib\\site-packages (from nbformat>=4.2->plotly==2.2.3->-r requirements.txt (line 6)) (2.6.0)\n",
            "Requirement already satisfied: jupyter-core in c:\\users\\junnie\\appdata\\local\\programs\\python\\python36-32\\lib\\site-packages (from nbformat>=4.2->plotly==2.2.3->-r requirements.txt (line 6)) (4.4.0)\n",
            "Installing collected packages: future, osqp, ecos, scs, dill, multiprocess, fastcache, toolz, cvxpy, pyparsing, python-dateutil, pytz, idna, urllib3, requests, tqdm\n",
            "  Running setup.py install for future: started\n",
            "    Running setup.py install for future: finished with status 'done'\n",
            "  Running setup.py install for scs: started\n",
            "    Running setup.py install for scs: finished with status 'done'\n",
            "  Running setup.py install for dill: started\n",
            "    Running setup.py install for dill: finished with status 'done'\n",
            "  Running setup.py install for fastcache: started\n",
            "    Running setup.py install for fastcache: finished with status 'error'\n",
            "    Complete output from command c:\\users\\junnie\\appdata\\local\\programs\\python\\python36-32\\python.exe -u -c \"import setuptools, tokenize;__file__='C:\\\\Users\\\\junnie\\\\AppData\\\\Local\\\\Temp\\\\pip-install-1qitr0x3\\\\fastcache\\\\setup.py';f=getattr(tokenize, 'open', open)(__file__);code=f.read().replace('\\r\\n', '\\n');f.close();exec(compile(code, __file__, 'exec'))\" install --record C:\\Users\\junnie\\AppData\\Local\\Temp\\pip-record-k5mxiff0\\install-record.txt --single-version-externally-managed --compile:\n",
            "    running install\n",
            "    running build\n",
            "    running build_py\n",
            "    creating build\n",
            "    creating build\\lib.win32-3.6\n",
            "    creating build\\lib.win32-3.6\\fastcache\n",
            "    copying fastcache\\benchmark.py -> build\\lib.win32-3.6\\fastcache\n",
            "    copying fastcache\\__init__.py -> build\\lib.win32-3.6\\fastcache\n",
            "    creating build\\lib.win32-3.6\\fastcache\\tests\n",
            "    copying fastcache\\tests\\test_clrucache.py -> build\\lib.win32-3.6\\fastcache\\tests\n",
            "    copying fastcache\\tests\\test_functools.py -> build\\lib.win32-3.6\\fastcache\\tests\n",
            "    copying fastcache\\tests\\test_thread.py -> build\\lib.win32-3.6\\fastcache\\tests\n",
            "    copying fastcache\\tests\\__init__.py -> build\\lib.win32-3.6\\fastcache\\tests\n",
            "    running build_ext\n",
            "    building 'fastcache._lrucache' extension\n",
            "    error: Microsoft Visual C++ 14.0 is required. Get it with \"Microsoft Visual C++ Build Tools\": http://landinghub.visualstudio.com/visual-cpp-build-tools\n",
            "    \n",
            "    ----------------------------------------\n"
          ],
          "name": "stdout"
        },
        {
          "output_type": "stream",
          "text": [
            "Command \"c:\\users\\junnie\\appdata\\local\\programs\\python\\python36-32\\python.exe -u -c \"import setuptools, tokenize;__file__='C:\\\\Users\\\\junnie\\\\AppData\\\\Local\\\\Temp\\\\pip-install-1qitr0x3\\\\fastcache\\\\setup.py';f=getattr(tokenize, 'open', open)(__file__);code=f.read().replace('\\r\\n', '\\n');f.close();exec(compile(code, __file__, 'exec'))\" install --record C:\\Users\\junnie\\AppData\\Local\\Temp\\pip-record-k5mxiff0\\install-record.txt --single-version-externally-managed --compile\" failed with error code 1 in C:\\Users\\junnie\\AppData\\Local\\Temp\\pip-install-1qitr0x3\\fastcache\\\n",
            "You are using pip version 18.1, however version 19.0.2 is available.\n",
            "You should consider upgrading via the 'python -m pip install --upgrade pip' command.\n"
          ],
          "name": "stderr"
        }
      ]
    },
    {
      "metadata": {
        "id": "86FtH-yEHlwv",
        "colab_type": "text"
      },
      "cell_type": "markdown",
      "source": [
        "## Imports"
      ]
    },
    {
      "metadata": {
        "id": "qU1e9fAGHlwy",
        "colab_type": "code",
        "colab": {}
      },
      "cell_type": "code",
      "source": [
        "import cvxpy as cvx\n",
        "import numpy as np\n",
        "import quiz_tests"
      ],
      "execution_count": 0,
      "outputs": []
    },
    {
      "metadata": {
        "id": "GayOBdyeHlw_",
        "colab_type": "text"
      },
      "cell_type": "markdown",
      "source": [
        "## Optimization with cvxpy\n",
        "\n",
        "http://www.cvxpy.org/\n",
        "\n",
        "Practice using cvxpy to solve a simple optimization problem. Find the optimal weights on a two-asset portfolio given the variance of Stock A, the variance of Stock B, and the correlation between Stocks A and B. Create a function that takes in these values as arguments and returns the vector of optimal weights, i.e., \n",
        "\n",
        "$\\mathbf{x} = \\begin{bmatrix}\n",
        "x_A & x_B\n",
        "\\end{bmatrix}\n",
        "$\n",
        "\n",
        "\n",
        "Remember that the constraint in this problem is: $x_A + x_B = 1$\n",
        "\n"
      ]
    },
    {
      "metadata": {
        "id": "hvqz8WvUHlxB",
        "colab_type": "text"
      },
      "cell_type": "markdown",
      "source": [
        "## Hints\n",
        "\n",
        "### standard deviation\n",
        "standard deviation $\\sigma_A = \\sqrt(\\sigma^2_A)$, where $\\sigma^2_A$ is variance of $x_A$\n",
        "look at `np.sqrt()`\n",
        "\n",
        "### covariance\n",
        "correlation between the stocks is $\\rho_{A,B}$\n",
        "\n",
        "covariance between the stocks is $\\sigma_{A,B} = \\sigma_A \\times \\sigma_B \\times \\rho_{A,B}$\n",
        "\n",
        "### x vector\n",
        "create a vector of 2 x variables $\\mathbf{x} = \\begin{bmatrix}\n",
        "x_A & x_B\n",
        "\\end{bmatrix}\n",
        "$\n",
        "we can use `cvx.Variable(2)`\n",
        "\n",
        "### covariance matrix\n",
        "The covariance matrix $P = \n",
        "\\begin{bmatrix}\n",
        "\\sigma^2_A & \\sigma_{A,B} \\\\ \n",
        "\\sigma_{A,B} & \\sigma^2_B \n",
        "\\end{bmatrix}$\n",
        "\n",
        "We can create a 2 x 2 matrix using a 2-dimensional numpy array\n",
        "`np.array([[\"Cindy\", \"Liz\"],[\"Eddy\", \"Brok\"]])`\n",
        "\n",
        "### quadratic form\n",
        "We can write the portfolio variance $\\sigma^2_p = \\mathbf{x^T} \\mathbf{P} \\mathbf{x}$\n",
        "\n",
        "Recall that the $\\mathbf{x^T} \\mathbf{P} \\mathbf{x}$ is called the quadratic form.\n",
        "We can use the cvxpy function `quad_form(x,P)` to get the quadratic form.\n",
        "\n",
        "### objective function\n",
        "Next, we want to define the objective function.  In this case, we want to minimize something.  What do we want to minimize in this case?  We want to minimize the portfolio variance, which is defined by our quadratic form $\\mathbf{x^T} \\mathbf{P} \\mathbf{x}$\n",
        "\n",
        "We can find the objective function using cvxpy `objective = cvx.Minimize()`.  Can you guess what to pass into this function?\n",
        "\n",
        "\n",
        "### constraints\n",
        "We can also define our constraints in a list.  For example, if you wanted the $\\sum_{1}^{n}x = 1$, you could save a variable as `[sum(x)==1]`, where x was created using `cvx.Variable()`.\n",
        "\n",
        "### optimization\n",
        "So now that we have our objective function and constraints, we can solve for the values of $\\mathbf{x}$.\n",
        "cvxpy has the constructor `Problem(objective, constraints)`, which returns a `Problem` object.\n",
        "\n",
        "The `Problem` object has a function solve(), which returns the minimum of the solution.  In this case, this is the minimum variance of the portfolio.\n",
        "\n",
        "It also updates the vector $\\mathbf{x}$.\n",
        "\n",
        "We can check out the values of $x_A$ and $x_B$ that gave the minimum portfolio variance by using `x.value`"
      ]
    },
    {
      "metadata": {
        "id": "CYVrZQyGHlxG",
        "colab_type": "code",
        "colab": {}
      },
      "cell_type": "code",
      "source": [
        "import cvxpy as cvx\n",
        "import numpy as np\n",
        "\n",
        "def optimize_twoasset_portfolio(varA, varB, rAB):\n",
        "    \"\"\"Create a function that takes in the variance of Stock A, the variance of\n",
        "    Stock B, and the correlation between Stocks A and B as arguments and returns \n",
        "    the vector of optimal weights\n",
        "    \n",
        "    Parameters\n",
        "    ----------\n",
        "    varA : float\n",
        "        The variance of Stock A.\n",
        "        \n",
        "    varB : float\n",
        "        The variance of Stock B.    \n",
        "        \n",
        "    rAB : float\n",
        "        The correlation between Stocks A and B.\n",
        "        \n",
        "    Returns\n",
        "    -------\n",
        "    x : np.ndarray\n",
        "        A 2-element numpy ndarray containing the weights on Stocks A and B,\n",
        "        [x_A, x_B], that minimize the portfolio variance.\n",
        "    \n",
        "    \"\"\"\n",
        "    # TODO: Use cvxpy to determine the weights on the assets in a 2-asset\n",
        "    # portfolio that minimize portfolio variance.\n",
        "    \n",
        "    cov = np.sqrt(varA)*np.sqrt(varB)*rAB \n",
        "    # A와 B의 공분산 = A의 표준편차 x B의 표준편차 x A와B의 상관계수\n",
        "    x = cvx.Variable(2)\n",
        "    # A와 B의 weight을 각각 담아야하니까 variable의 size는 2가 되어야겠지!\n",
        "    P = np.array([[varA, cov],[cov, varB]])\n",
        "    # P는 A와 B의 covariance matrix\n",
        "    \n",
        "    objective = cvx.Minimize(cvx.quad_form(x,P))     \n",
        "    # objective function 정의 \n",
        "    # (x 벡터와 P 공분산 행렬을 각각 인자로 전달) --> portfolio variance를 나타냄\n",
        "    \n",
        "    constraints = [sum(x)==1]\n",
        "    # weight의 전체합은 반드시 1이 되어야겠지.\n",
        "    # 따라서 weight값을 지니고있는 x벡터의 sum을 1로 설정해줌.\n",
        "    \n",
        "    problem = cvx.Problem(objective, constraints)\n",
        "    # 문제설정 완료\n",
        "    min_value = problem.solve()\n",
        "    # 문제를 풀어라!\n",
        "    \n",
        "    xA,xB = x.value \n",
        "    \n",
        "    return xA, xB "
      ],
      "execution_count": 0,
      "outputs": []
    },
    {
      "metadata": {
        "id": "-E5R9sgGHlxO",
        "colab_type": "code",
        "colab": {},
        "outputId": "f58e9815-f3c7-4157-87bd-13eb10a1594e"
      },
      "cell_type": "code",
      "source": [
        "\"\"\"Test run optimize_twoasset_portfolio().\"\"\"\n",
        "xA,xB = optimize_twoasset_portfolio(0.1, 0.05, 0.25)\n",
        "print(\"Weight on Stock A: {:.6f}\".format(xA))\n",
        "print(\"Weight on Stock B: {:.6f}\".format(xB))"
      ],
      "execution_count": 0,
      "outputs": [
        {
          "output_type": "stream",
          "text": [
            "Weight on Stock A: 0.281935\n",
            "Weight on Stock B: 0.718065\n"
          ],
          "name": "stdout"
        }
      ]
    },
    {
      "metadata": {
        "id": "jRH67rdeHlxZ",
        "colab_type": "text"
      },
      "cell_type": "markdown",
      "source": [
        "If you're feeling stuck, you can check out the solution [here](m3l4_cvxpy_basic_solution.ipynb)"
      ]
    }
  ]
}