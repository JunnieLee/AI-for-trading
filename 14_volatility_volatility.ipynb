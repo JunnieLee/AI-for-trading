{
  "nbformat": 4,
  "nbformat_minor": 0,
  "metadata": {
    "colab": {
      "name": "14_volatility_volatility.ipynb",
      "version": "0.3.2",
      "provenance": [],
      "include_colab_link": true
    },
    "kernelspec": {
      "display_name": "Python 3",
      "language": "python",
      "name": "python3"
    }
  },
  "cells": [
    {
      "cell_type": "markdown",
      "metadata": {
        "id": "view-in-github",
        "colab_type": "text"
      },
      "source": [
        "<a href=\"https://colab.research.google.com/github/JunnieLee/AI-for-trading/blob/master/14_volatility_volatility.ipynb\" target=\"_parent\"><img src=\"https://colab.research.google.com/assets/colab-badge.svg\" alt=\"Open In Colab\"/></a>"
      ]
    },
    {
      "metadata": {
        "id": "DrF8OSh9kKYl",
        "colab_type": "code",
        "colab": {}
      },
      "cell_type": "code",
      "source": [
        "import pandas as pd\n",
        "import numpy as np"
      ],
      "execution_count": 0,
      "outputs": []
    },
    {
      "metadata": {
        "id": "luLNKrkMkKY_",
        "colab_type": "code",
        "colab": {}
      },
      "cell_type": "code",
      "source": [
        "def get_most_volatile(prices):\n",
        "    \"\"\"Return the ticker symbol for the most volatile stock.\n",
        "    \n",
        "    Parameters\n",
        "    ----------\n",
        "    prices : pandas.DataFrame\n",
        "        a pandas.DataFrame object with columns: ['ticker', 'date', 'price']\n",
        "    \n",
        "    Returns\n",
        "    -------\n",
        "    ticker : string\n",
        "        ticker symbol for the most volatile stock\n",
        "    \"\"\"\n",
        "    # TODO: Fill in this function.\n",
        "    prices = prices.set_index('date')\n",
        "    # Set the DataFrame index using existing columns.\n",
        "    \n",
        "    hv_list = []\n",
        "    \n",
        "    for symbol in prices.ticker.unique():\n",
        "        \n",
        "        symbol_price = prices[prices['ticker'] == symbol]['price'] \n",
        "        # 해당 심볼에 대응하는 ticker의 가격 정보들만 따로 dataframe 떼오기\n",
        "        symbol_lret = np.log(symbol_price/symbol_price.shift(1))\n",
        "        # 해당 ticker에 해당하는 log return값 구하기\n",
        "        symbol_hv = symbol_lret.std() \n",
        "        # log return값들의 표준편차 구하기\n",
        "        hv_list.append(symbol_hv) \n",
        "        # 각 ticker들에 해당하는 log return 표준편차들을 hv_list에 element로 담기!\n",
        "        \n",
        "        \n",
        "    hv_Series = pd.Series(hv_list)\n",
        "    # 각 ticker들의 log return 표준편차들을 담은 hv_list를 pandas series로 만들기!\n",
        "    hv_Series.index = prices.ticker.unique()\n",
        "    # pandas series의 index는 각 unique한 ticker값들로 설정한다!\n",
        "    ticker = hv_Series.idxmax()\n",
        "    # Return the row label of the maximum value.\n",
        "    # If multiple values equal the maximum, the first row label with that value is returned\n",
        "   \n",
        "    return ticker"
      ],
      "execution_count": 0,
      "outputs": []
    },
    {
      "metadata": {
        "id": "4iIwitS5kKZM",
        "colab_type": "code",
        "colab": {},
        "outputId": "71c8b178-a4b2-499f-8d51-70d8984fa494"
      },
      "cell_type": "code",
      "source": [
        "def test_run(filename='prices.csv'):\n",
        "    \"\"\"Test run get_most_volatile() with stock prices from a file.\"\"\"\n",
        "    prices = pd.read_csv(filename, parse_dates=['date'])\n",
        "    print(\"Most volatile stock: {}\".format(get_most_volatile(prices)))\n",
        "\n",
        "\n",
        "if __name__ == '__main__':\n",
        "    test_run()"
      ],
      "execution_count": 0,
      "outputs": [
        {
          "output_type": "stream",
          "text": [
            "Most volatile stock: B\n"
          ],
          "name": "stdout"
        }
      ]
    }
  ]
}